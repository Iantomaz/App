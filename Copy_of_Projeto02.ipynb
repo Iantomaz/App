# Estruturas de dados para armazenamento
produtos = []
usuarios = []

def cadastrar_produto():
    """Cadastra um novo produto no sistema"""
    print("\n" + "="*50)
    print("CADASTRO DE NOVO PRODUTO")
    print("="*50)

    pid = len(produtos) + 1
    nome = input("Nome do produto: ")
    tags_str = input("Tags separadas por vírgula (ex: vegano, sem_lactose, ganho_massa): ")
    tags = [t.strip() for t in tags_str.split(",") if t.strip()]

    produtos.append({
        "id": pid,
        "nome": nome,
        "tags": tags
    })
    print(f"\nProduto '{nome}' cadastrado com ID: {pid}")
    print("="*50 + "\n")

def listar_produtos():
    """Lista todos os produtos cadastrados"""
    print("\n" + "="*60)
    print("LISTAGEM DE PRODUTOS CADASTRADOS")
    print("="*60)

    if not produtos:
        print("Nenhum produto cadastrado no sistema.\n")
        return

    for p in produtos:
        print(f"{p['id']:02d} {p['nome']:25} | Tags: {', '.join(p['tags'])}")

    print("="*60 + "\n")

def cadastrar_usuario():
    """Cadastra um novo usuário no sistema"""
    print("\n" + "="*50)
    print("CADASTRO DE NOVO USUÁRIO")
    print("="*50)

    uid = len(usuarios) + 1
    nome = input("Nome do usuário: ")
    objetivos = input("Objetivos (ex: emagrecimento, ganho_massa): ")
    restricoes = input("Restrições (ex: vegano, sem_lactose) - pode deixar vazio: ")
    obj_list = [o.strip() for o in objetivos.split(",") if o.strip()]
    res_list = [r.strip() for r in restricoes.split(",") if r.strip()]

    usuarios.append({
        "id": uid,
        "nome": nome,
        "objetivos": obj_list,
        "restricoes": res_list,
        "compras": []
    })
    print(f"\nUsuário '{nome}' cadastrado com ID: {uid}")
    print("="*50 + "\n")

def listar_usuarios():
    """Lista todos os usuários cadastrados"""
    print("\n" + "="*70)
    print("LISTAGEM DE USUÁRIOS CADASTRADOS")
    print("="*70)

    if not usuarios:
        print("Nenhum usuário cadastrado no sistema.\n")
        return

    for u in usuarios:
        print(f"{u['id']:02d} {u['nome']:15} | Objetivos: {', '.join(u['objetivos']) or 'Nenhum'} | Restrições: {', '.join(u['restricoes']) or 'Nenhum'}")

    print("="*70 + "\n")

def registrar_compra():
    """Registra uma compra de produto por um usuário"""
    print("\n" + "="*50)
    print("REGISTRO DE COMPRA")
    print("="*50)

    if not usuarios or not produtos:
        print("É necessário cadastrar pelo menos 1 usuário e 1 produto primeiro.\n")
        return

    listar_usuarios()

    try:
        uid = int(input("ID do usuário: "))
        u = next((x for x in usuarios if x["id"] == uid), None)

        if not u:
            print("Usuário não encontrado.\n")
            return

        listar_produtos()
        pid = int(input("ID do produto comprado: "))
        p = next((x for x in produtos if x["id"] == pid), None)

        if not p:
            print("Produto não encontrado.\n")
            return

        if pid not in u["compras"]:
            u["compras"].append(pid)
            print(f"\nCompra registrada: {u['nome']} -> {p['nome']}")
        else:
            print(f"\nEste produto já havia sido registrado anteriormente para {u['nome']}")

    except ValueError:
        print("Erro: Digite um número válido para o ID.")
    print("="*50 + "\n")

def recomendar(usuario_id, top_n=5):
    """Gera recomendações personalizadas para um usuário"""
    print("\n" + "="*60)
    print("SISTEMA DE RECOMENDAÇÃO PERSONALIZADA")
    print("="*60)

    u = next((x for x in usuarios if x["id"] == usuario_id), None)
    if not u:
        print("Usuário não encontrado.\n")
        return

    if not produtos:
        print("Nenhum produto cadastrado no sistema.\n")
        return

    # Combina objetivos e restrições para criar perfil de preferências
    pref = set(u["objetivos"] + u["restricoes"])
    compras = set(u["compras"])
    ranking = []

    # Calcula score para cada produto não comprado
    for p in produtos:
        if p["id"] in compras:
            continue

        tags = set(p["tags"])
        score = len(tags & pref)  # Intersecão entre tags e preferências

        if score > 0:
            ranking.append((p, score))

    # Ordena por score (maior primeiro)
    ranking.sort(key=lambda x: x[1], reverse=True)

    print(f"\nRecomendações para {u['nome']}:")
    print(f"Perfil: Objetivos({', '.join(u['objetivos'])}) | Restrições({', '.join(u['restricoes'])})")
    print("="*60)

    if not ranking:
        print("Menhum produto relevante encontrado com base nas suas preferências.")
        print("Tente ajustar seus objetivos ou restrições no cadastro.")
        return
    
    for i, (p, s) in enumerate(ranking[:top_n], 1):
        print(f"{i:2d}. {p['nome']:20} [Score: {s}] | Tags: {', '.join(p['tags'])}")

    print("="*60 + "\n")

def menu_principal():
    """Menu principal do sistema"""

    while True:
        print("\n" + "="*60)
        print("ASSISTENTE INTELIGENTE DE RECOMENDAÇÃO - MEMABITIS")
        print("="*60)
        print("1. Cadastrar novo produto")
        print("2. Listar produtos cadastrados")
        print("3. Cadastrar novo usuário")
        print("4. Listar usuários cadastrados")
        print("5. Registrar compra")
        print("6. Gerar recomendações")
        print("0. Sair do sistema")
        print("-"*60)

        op = input("Escolha uma opção: ")
        if op == "1":
            cadastrar_produto()
        elif op == "2":
            listar_produtos()
        elif op == "3":
            cadastrar_usuario()
        elif op == "4":
            listar_usuarios()
        elif op == "5":
            registrar_compra()
        elif op == "6":
            if not usuarios:
                print("Cadastre um usuário primeiro.\n")
                continue
            listar_usuarios()
            try:
                uid = int(input("ID do usuário para recomendações: "))
                recomendar(uid)
            except ValueError:
                print("Erro: Digite um número válido para o ID.")
        elif op == "0":
            print("\n" + "="*60)
            print("Obrigado por usar o Memabits!")
            print("Volte sempre para manter seus hábitos saudáveis!")
            print("="*60)
            break
        else:
            print("Opção inválida. Tente novamente.\n")

# Ponto de entrada do programa
if __name__ == "__main__":
    # Mensagem de boas-vindas
    print("\n" + "="*70)
    print("BEM-VINDO AO MEMABITS!")
    print("Sistema Inteligente de Recomendação para Saúde e Bem-Estar")
    print("="*70)

    # Inicializa o menu principal
    menu_principal()